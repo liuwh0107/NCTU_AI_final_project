{
 "cells": [
  {
   "cell_type": "code",
   "execution_count": null,
   "id": "16f9c96b",
   "metadata": {},
   "outputs": [],
   "source": [
    "# train data - 空白切割 + 建立字典\n",
    "# label - One-hot Encoding\n",
    "# 分割dataset - train + validation\n",
    "\n",
    "# ref: https://leemeng.tw/shortest-path-to-the-nlp-world-a-gentle-guide-of-natural-language-processing-and-deep-learning-for-everyone.html"
   ]
  },
  {
   "cell_type": "code",
   "execution_count": 73,
   "id": "6fc89906",
   "metadata": {},
   "outputs": [],
   "source": [
    "import numpy as np\n",
    "import pandas as pd\n",
    "from sklearn import feature_extraction, linear_model, model_selection, preprocessing"
   ]
  },
  {
   "cell_type": "code",
   "execution_count": 74,
   "id": "25225f04",
   "metadata": {},
   "outputs": [],
   "source": [
    "train_data = pd.read_csv(\"./dataset/train.csv\")\n",
    "test_data = pd.read_csv(\"./dataset/test.csv\")"
   ]
  },
  {
   "cell_type": "code",
   "execution_count": 77,
   "id": "224d2cfc",
   "metadata": {},
   "outputs": [],
   "source": [
    "# train_data.info()\n",
    "cols = ['id', \n",
    "        'text',\n",
    "        'target']\n",
    "train_data = train_data.loc[:, cols]"
   ]
  },
  {
   "cell_type": "code",
   "execution_count": 78,
   "id": "b72a58c9",
   "metadata": {},
   "outputs": [],
   "source": [
    "import nltk\n",
    "from nltk.tokenize import WordPunctTokenizer,WhitespaceTokenizer\n",
    "train_data['train_tokenized'] = train_data.loc[:, 'text'].apply(WhitespaceTokenizer().tokenize)\n",
    "test_data['test_tokenized'] = test_data.loc[:, 'text'].apply(WhitespaceTokenizer().tokenize)"
   ]
  },
  {
   "cell_type": "code",
   "execution_count": 79,
   "id": "87242c6f",
   "metadata": {},
   "outputs": [],
   "source": [
    "# train_data['text']"
   ]
  },
  {
   "cell_type": "code",
   "execution_count": 80,
   "id": "dcd491e6",
   "metadata": {},
   "outputs": [],
   "source": [
    "# train_data['train_tokenized']"
   ]
  },
  {
   "cell_type": "code",
   "execution_count": 81,
   "id": "18c4d1b6",
   "metadata": {},
   "outputs": [],
   "source": [
    "import tensorflow as tf\n",
    "MAX_NUM_WORDS = 100000\n",
    "tokenizer = tf.keras.preprocessing.text.Tokenizer(num_words=MAX_NUM_WORDS)\n",
    "tokenizer.fit_on_texts(train_data.train_tokenized)\n",
    "train = tokenizer.texts_to_sequences(train_data.train_tokenized)"
   ]
  },
  {
   "cell_type": "code",
   "execution_count": 82,
   "id": "294302b8",
   "metadata": {},
   "outputs": [],
   "source": [
    "# print(train_data['train_tokenized'][0])\n",
    "# print(train[:1])\n",
    "# for seq in train[:1]:\n",
    "#     print([tokenizer.index_word[idx] for idx in seq])"
   ]
  },
  {
   "cell_type": "code",
   "execution_count": 83,
   "id": "a6c25d93",
   "metadata": {},
   "outputs": [],
   "source": [
    "# max_seq_len = max([\n",
    "#     len(seq) for seq in train])\n",
    "# max_seq_len"
   ]
  },
  {
   "cell_type": "code",
   "execution_count": 84,
   "id": "0936b458",
   "metadata": {},
   "outputs": [],
   "source": [
    "MAX_SEQUENCE_LENGTH = 31\n",
    "x_train = tf.keras.preprocessing.sequence.pad_sequences(train, maxlen=MAX_SEQUENCE_LENGTH)\n",
    "y_train = np.asarray(train_data.target).astype('float32')\n",
    "y_train = tf.keras.utils.to_categorical(y_train)"
   ]
  },
  {
   "cell_type": "code",
   "execution_count": 85,
   "id": "1ce96a8f",
   "metadata": {},
   "outputs": [],
   "source": [
    "# print(x_train[:1])\n",
    "# print(y_train[:1])"
   ]
  },
  {
   "cell_type": "code",
   "execution_count": 86,
   "id": "e8b68b80",
   "metadata": {},
   "outputs": [],
   "source": [
    "from sklearn.model_selection import train_test_split\n",
    "\n",
    "VALIDATION_RATIO = 0.1\n",
    "RANDOM_STATE = 9527\n",
    "\n",
    "x_train, x_val, y_train, y_val = train_test_split(\n",
    "                                    x_train, y_train, \n",
    "                                    test_size=VALIDATION_RATIO, \n",
    "                                    random_state=RANDOM_STATE\n",
    "                                )"
   ]
  },
  {
   "cell_type": "code",
   "execution_count": 87,
   "id": "59418616",
   "metadata": {},
   "outputs": [
    {
     "name": "stdout",
     "output_type": "stream",
     "text": [
      "Training Set\n",
      "----------\n",
      "x_train: (6851, 31)\n",
      "y_train : (6851, 2)\n",
      "----------\n",
      "x_val:   (762, 31)\n",
      "y_val :   (762, 2)\n",
      "----------\n",
      "Test Set\n"
     ]
    }
   ],
   "source": [
    "print(\"Training Set\")\n",
    "print(\"-\" * 10)\n",
    "print(f\"x_train: {x_train.shape}\")\n",
    "print(f\"y_train : {y_train.shape}\")\n",
    "\n",
    "print(\"-\" * 10)\n",
    "print(f\"x_val:   {x_val.shape}\")\n",
    "print(f\"y_val :   {y_val.shape}\")\n",
    "print(\"-\" * 10)\n",
    "print(\"Test Set\")"
   ]
  },
  {
   "cell_type": "code",
   "execution_count": null,
   "id": "cd8f14f0",
   "metadata": {},
   "outputs": [],
   "source": []
  }
 ],
 "metadata": {
  "kernelspec": {
   "display_name": "Python 3",
   "language": "python",
   "name": "python3"
  },
  "language_info": {
   "codemirror_mode": {
    "name": "ipython",
    "version": 3
   },
   "file_extension": ".py",
   "mimetype": "text/x-python",
   "name": "python",
   "nbconvert_exporter": "python",
   "pygments_lexer": "ipython3",
   "version": "3.8.9"
  },
  "toc": {
   "base_numbering": 1,
   "nav_menu": {},
   "number_sections": true,
   "sideBar": true,
   "skip_h1_title": false,
   "title_cell": "Table of Contents",
   "title_sidebar": "Contents",
   "toc_cell": false,
   "toc_position": {},
   "toc_section_display": true,
   "toc_window_display": false
  },
  "varInspector": {
   "cols": {
    "lenName": 16,
    "lenType": 16,
    "lenVar": 40
   },
   "kernels_config": {
    "python": {
     "delete_cmd_postfix": "",
     "delete_cmd_prefix": "del ",
     "library": "var_list.py",
     "varRefreshCmd": "print(var_dic_list())"
    },
    "r": {
     "delete_cmd_postfix": ") ",
     "delete_cmd_prefix": "rm(",
     "library": "var_list.r",
     "varRefreshCmd": "cat(var_dic_list()) "
    }
   },
   "types_to_exclude": [
    "module",
    "function",
    "builtin_function_or_method",
    "instance",
    "_Feature"
   ],
   "window_display": false
  }
 },
 "nbformat": 4,
 "nbformat_minor": 5
}
